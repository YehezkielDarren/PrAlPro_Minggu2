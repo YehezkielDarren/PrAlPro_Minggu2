{
 "cells": [
  {
   "cell_type": "markdown",
   "metadata": {},
   "source": [
    "1. BMI"
   ]
  },
  {
   "cell_type": "code",
   "execution_count": 11,
   "metadata": {},
   "outputs": [
    {
     "name": "stdout",
     "output_type": "stream",
     "text": [
      "Program Body Mass Index\n",
      "Your Mass : 55.00 Kg\n",
      "Your Height : 1.75 Meter\n",
      "BMI is : 17.96\n"
     ]
    }
   ],
   "source": [
    "print(\"Program Body Mass Index\")\n",
    "your_mass= float(input(\"Input Your Mass in Kg :\"))\n",
    "your_height= float(input(\"Input Your Height in Meter :\"))\n",
    "\n",
    "def BMI(x,y):\n",
    "    return x/(y**2)\n",
    "\n",
    "final = float(BMI(your_mass,your_height))\n",
    "print(\"Your Mass : %.2f Kg\\nYour Height : %.2f Meter\\nBMI is : %.2f\"%(your_mass,your_height,final))"
   ]
  },
  {
   "cell_type": "markdown",
   "metadata": {},
   "source": [
    "2. Persamaan Aljabar"
   ]
  },
  {
   "cell_type": "code",
   "execution_count": 20,
   "metadata": {},
   "outputs": [
    {
     "name": "stdout",
     "output_type": "stream",
     "text": [
      "x : 10\n",
      "The Result is 2021.5\n"
     ]
    }
   ],
   "source": [
    "x = int(input(\"Input x : \"))\n",
    "\n",
    "formula = 2*(x**3)+ 2*x +15/x\n",
    "\n",
    "print(\"x :\",x)\n",
    "print(\"The Result is\",formula)"
   ]
  },
  {
   "cell_type": "markdown",
   "metadata": {},
   "source": [
    "3. Liburan Musim Panas Budi"
   ]
  },
  {
   "cell_type": "code",
   "execution_count": 24,
   "metadata": {},
   "outputs": [
    {
     "name": "stdout",
     "output_type": "stream",
     "text": [
      "Program Menghitung Pendapatan Budi Selama Liburan Musim Panas\n",
      "====================================================================================================\n",
      "Pendapatan Budi selama 5 mingg dengan :\n",
      "Gaji Rp.150000 dan Total Jam Kerja dalam  Seminggu 15 Jam \n",
      "1. BELUM KENA PAJAK :  11250000.0\n",
      "2. KENA PAJAK :  9675000.0\n",
      "Pengeluaran Budi :\n",
      "1. Baju dan Aksesoris :  967500.0\n",
      "2. Alat Tulis :  96750.0\n",
      "3. Sedekah :  2152687.5\n",
      "\t3a. Sedekah untuk Yatim :  645806.25\n",
      "\t3b. Sedekah untuk Dhuafa :  1506881.25\n"
     ]
    }
   ],
   "source": [
    "print(\"Program Menghitung Pendapatan Budi Selama Liburan Musim Panas\")\n",
    "print(\"=\"*100)\n",
    "#input\n",
    "salary=int(input(\"Masukkan gaji per jam Budi : \"))\n",
    "work_hours=float(input(\"Masukkan jam kerja Budi dalam seminggu : \"))\n",
    "\n",
    "#Function Pendapatan Setelah kena Pajak\n",
    "def taxSalary(x):\n",
    "    final= x-(x*0.14)\n",
    "    return final\n",
    "\n",
    "#Function Pendapatan Sebelum kena Pajak\n",
    "def noTax(x,y,z):\n",
    "    return x*(y*z)\n",
    "\n",
    "#Waktu yang diperlukan\n",
    "num_Weeks=5\n",
    "\n",
    "#Pendapatan BELUM KENA PAJAK\n",
    "gross= noTax(salary,work_hours,num_Weeks)\n",
    "\n",
    "#Pendapatan KENA PAJAK\n",
    "netIncome= taxSalary(gross)\n",
    "\n",
    "#Pengeluaran Pendapatan\n",
    "Accesories= netIncome*0.1 #Pengeluaran untuk baju dan aksesoris\n",
    "stationery= netIncome*0.01 #Pengeluaran untuk alat tulis\n",
    "\n",
    "#Sisa pendapatan pertama\n",
    "ResidualSalary= netIncome-(Accesories+stationery)\n",
    "\n",
    "Charity = ResidualSalary*0.25 #Pengeluaran untuk sedekah\n",
    "\n",
    "\n",
    "Charity_yteam= Charity*0.3 #Pengeluaran untuk Yatim\n",
    "Charity_poor=Charity*0.7 #Pengeluaran untuk Dhuafa\n",
    "\n",
    "#Print\n",
    "print(\"Pendapatan Budi selama 5 mingg dengan :\\nGaji Rp.%d dan Total Jam Kerja dalam  Seminggu %d Jam \" %(salary,work_hours))\n",
    "print(\"1. BELUM KENA PAJAK : \", gross)\n",
    "print(\"2. KENA PAJAK : \", netIncome)\n",
    "print(\"Pengeluaran Budi :\")\n",
    "print(\"1. Baju dan Aksesoris : \",Accesories)\n",
    "print(\"2. Alat Tulis : \",stationery)\n",
    "print(\"3. Sedekah : \",Charity)\n",
    "print(\"\\t3a. Sedekah untuk Yatim : \",Charity_yteam)\n",
    "print(\"\\t3b. Sedekah untuk Dhuafa : \", Charity_poor)\n",
    "\n"
   ]
  }
 ],
 "metadata": {
  "kernelspec": {
   "display_name": "Python 3",
   "language": "python",
   "name": "python3"
  },
  "language_info": {
   "codemirror_mode": {
    "name": "ipython",
    "version": 3
   },
   "file_extension": ".py",
   "mimetype": "text/x-python",
   "name": "python",
   "nbconvert_exporter": "python",
   "pygments_lexer": "ipython3",
   "version": "3.11.1"
  }
 },
 "nbformat": 4,
 "nbformat_minor": 2
}
